{
 "cells": [
  {
   "cell_type": "code",
   "execution_count": 1,
   "id": "459a5fc1-23f9-4e4f-a2dd-8dcad23cad45",
   "metadata": {},
   "outputs": [],
   "source": [
    "import openai"
   ]
  },
  {
   "cell_type": "code",
   "execution_count": 2,
   "id": "9209a80c-a0f0-4aeb-b543-c9591138955d",
   "metadata": {},
   "outputs": [],
   "source": [
    "from openai import OpenAI"
   ]
  },
  {
   "cell_type": "code",
   "execution_count": 3,
   "id": "0ca4ddcb-6777-44a9-9854-4c17df142917",
   "metadata": {},
   "outputs": [],
   "source": [
    "client = OpenAI(api_key='')"
   ]
  },
  {
   "cell_type": "code",
   "execution_count": 4,
   "id": "a986b1a9-86d9-4532-9a1d-c9955704543f",
   "metadata": {},
   "outputs": [],
   "source": [
    "responce = client.chat.completions.create(\n",
    "    model='gpt-3.5-turbo',\n",
    "    messages=[{\"role\":\"user\", \"content\": \"is it too late\"}]\n",
    ")"
   ]
  },
  {
   "cell_type": "code",
   "execution_count": 6,
   "id": "87ce2842-8ca6-4dc3-8cc8-7c68e7c88e34",
   "metadata": {},
   "outputs": [
    {
     "data": {
      "text/plain": [
       "'It depends on what you are referring to. It is never too late to make positive changes in your life or pursue your goals. However, there may be some situations where it is too late to undo certain actions or decisions. Ultimately, it is up to you to assess the circumstances and decide if it is too late or not.'"
      ]
     },
     "execution_count": 6,
     "metadata": {},
     "output_type": "execute_result"
    }
   ],
   "source": [
    "responce.choices[0].message.content"
   ]
  }
 ],
 "metadata": {
  "kernelspec": {
   "display_name": "Python 3 (ipykernel)",
   "language": "python",
   "name": "python3"
  },
  "language_info": {
   "codemirror_mode": {
    "name": "ipython",
    "version": 3
   },
   "file_extension": ".py",
   "mimetype": "text/x-python",
   "name": "python",
   "nbconvert_exporter": "python",
   "pygments_lexer": "ipython3",
   "version": "3.10.13"
  }
 },
 "nbformat": 4,
 "nbformat_minor": 5
}
